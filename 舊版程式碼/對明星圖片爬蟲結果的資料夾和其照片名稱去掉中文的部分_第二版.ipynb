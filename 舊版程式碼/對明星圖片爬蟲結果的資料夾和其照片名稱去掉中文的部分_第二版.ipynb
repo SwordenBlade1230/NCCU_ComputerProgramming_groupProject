{
 "cells": [
  {
   "cell_type": "code",
   "execution_count": 1,
   "metadata": {},
   "outputs": [],
   "source": [
    "import os\n",
    "import time\n",
    "\n",
    "imgs_base_path = 'imgs'\n",
    "starting_singer_index = 1\n",
    "    # 根據自己負責的部分，設成1或是26\n",
    "    # 例如我負責找前25位(編號001~025)男明星，就設成1；庭萱負責找後25位(編號026~050)男明星，就設成26"
   ]
  },
  {
   "cell_type": "markdown",
   "metadata": {},
   "source": [
    "先將明星的名稱按照資料夾排序的順序記錄下來，以便之後核對修改後的檔案名稱"
   ]
  },
  {
   "cell_type": "code",
   "execution_count": 2,
   "metadata": {},
   "outputs": [
    {
     "name": "stdout",
     "output_type": "stream",
     "text": [
      "['HipHopMan歐陽靖', 'PG One', '伍佰&China Blue', '周杰倫', '周興哲', '婁峻碩', '小宇 宋念宇', '小鬼 黃鴻升', '林俊傑', '炎亞綸', '王力宏', '畢書盡Bii', '羅志祥', '翁立友', '蕭敬騰', '謝和弦', '邱勝翊 王子', '邱鋒澤', '阿信 五月天', '阿璞 八三夭', '陳奕迅', '陳零九', '青峰 蘇打綠', '黃偉晉', '黃明志']\n"
     ]
    }
   ],
   "source": [
    "singer_name_list = []\n",
    "for category_file_name in os.listdir(imgs_base_path):\n",
    "    singer_name_list.append(category_file_name)\n",
    "print(singer_name_list)"
   ]
  },
  {
   "cell_type": "markdown",
   "metadata": {},
   "source": [
    "如果怕上面的list在未來遺失，可以先輸出成txt檔保存下來"
   ]
  },
  {
   "cell_type": "code",
   "execution_count": null,
   "metadata": {},
   "outputs": [],
   "source": [
    "with open('按照先前資料夾排序的明星名稱.txt', 'w', encoding=\"utf-8\") as f:\n",
    "    for item in singer_name_list:\n",
    "        f.write(\"%s\\n\" % item)"
   ]
  },
  {
   "cell_type": "markdown",
   "metadata": {},
   "source": [
    "對明星圖片爬蟲結果的資料夾和其照片名稱去掉中文的部分"
   ]
  },
  {
   "cell_type": "code",
   "execution_count": 3,
   "metadata": {},
   "outputs": [
    {
     "name": "stdout",
     "output_type": "stream",
     "text": [
      "花費時間：1.15秒\n"
     ]
    }
   ],
   "source": [
    "st = time.time()\n",
    "\n",
    "for idx, category_file_name in enumerate(os.listdir(imgs_base_path)):\n",
    "    \n",
    "    old_category_file_path = os.path.join(imgs_base_path, category_file_name) \n",
    "    \n",
    "    for img_name in os.listdir(os.path.join(imgs_base_path, category_file_name)):\n",
    "        old_img_path = os.path.join(old_category_file_path, img_name)\n",
    "        new_img_path = os.path.join(old_category_file_path, img_name[-7:])\n",
    "        os.rename(old_img_path, new_img_path)                    \n",
    "        \n",
    "    new_category_file_path = os.path.join(imgs_base_path, 'star_' + str(idx + starting_singer_index).zfill(3))\n",
    "    os.rename(old_category_file_path, new_category_file_path)\n",
    "\n",
    "ed = time.time()\n",
    "spend_time = ed - st\n",
    "print(f'花費時間：{spend_time:.2f}秒')"
   ]
  }
 ],
 "metadata": {
  "kernelspec": {
   "display_name": "Python 3",
   "language": "python",
   "name": "python3"
  },
  "language_info": {
   "codemirror_mode": {
    "name": "ipython",
    "version": 3
   },
   "file_extension": ".py",
   "mimetype": "text/x-python",
   "name": "python",
   "nbconvert_exporter": "python",
   "pygments_lexer": "ipython3",
   "version": "3.7.4"
  }
 },
 "nbformat": 4,
 "nbformat_minor": 2
}
