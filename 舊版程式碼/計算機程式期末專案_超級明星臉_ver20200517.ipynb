{
 "cells": [
  {
   "cell_type": "markdown",
   "metadata": {},
   "source": [
    "組員名單：  \n",
    "108303067 會計一 杜淑萍   \n",
    "105306019 資管四 陳宇鑫   \n",
    "105308035 風管四 黃偉竣  \n",
    "105308045 風管四 林庭萱  "
   ]
  },
  {
   "cell_type": "markdown",
   "metadata": {},
   "source": [
    "# 0. 前言\n",
    "\n",
    "本程式碼包含三個部分，分別是資料蒐集、資料前處理和建立模型。如果按照該程式碼的教學從頭到尾執行一遍，將會產出一個能夠辨識藝人的模型。但是過程中還是有一些部分需要人力介入，例如在擷取臉部圖片的步驟後必須人工篩選符合預期的圖片。"
   ]
  },
  {
   "cell_type": "markdown",
   "metadata": {},
   "source": [
    "在執行該程式碼前，請確保和該程式碼同一個目錄下，有**chromedriver.exe**和**haarcascade_frontalface_default.xml**的檔案，分別在之後爬取圖片和擷取圖片中的人臉時會用到。\n",
    "\n",
    "<img src=\"說明圖片/0_0.png\">"
   ]
  },
  {
   "cell_type": "markdown",
   "metadata": {},
   "source": [
    "# 1. 資料蒐集"
   ]
  },
  {
   "cell_type": "markdown",
   "metadata": {},
   "source": [
    "## 1.1 取得明星列表\n",
    "\n",
    "由於網路上並沒有華人50大男明星的參考列表，自己想又缺乏客觀依據，因此針對男明星的列表，我們以「網路溫度計 - 歌手天團 - 網路聲量 」為參考，取出熱度前200名的明星。雖然排名在前面有可能是因為負面聲量的關係，但這些明星能排名在前面至少近期討論度算高的。"
   ]
  },
  {
   "cell_type": "code",
   "execution_count": null,
   "metadata": {},
   "outputs": [],
   "source": [
    "# 安裝必要的函式庫\n",
    "#!pip install beautifulsoup4"
   ]
  },
  {
   "cell_type": "code",
   "execution_count": null,
   "metadata": {},
   "outputs": [],
   "source": [
    "# 載入函式庫\n",
    "import requests\n",
    "from bs4 import BeautifulSoup\n",
    "import time"
   ]
  },
  {
   "cell_type": "code",
   "execution_count": null,
   "metadata": {},
   "outputs": [],
   "source": [
    "# 設定最多要爬到第幾頁的資料(一頁有十位明星的名稱)\n",
    "max_page = 20"
   ]
  },
  {
   "cell_type": "code",
   "execution_count": null,
   "metadata": {},
   "outputs": [],
   "source": [
    "# 主程式\n",
    "famous_singer_list = [] # 用來裝歌手和樂團的列表\n",
    "\n",
    "for pg in range(1, max_page + 1):\n",
    "    res = requests.get('https://dailyview.tw/top100/topic/8?volumn=1&page=' + str(pg))\n",
    "    soup = BeautifulSoup(res.text)\n",
    "    for i in soup.find_all(class_ = \"img-responsive\"):\n",
    "        famous_singer_list.append(i.get('alt'))\n",
    "    time.sleep(3) # 每隔三秒再去抓下一頁的資料，避免一下子發送太多的request導致被目標網站當成機器人而被擋掉"
   ]
  },
  {
   "cell_type": "code",
   "execution_count": null,
   "metadata": {},
   "outputs": [],
   "source": [
    "# 印出結果\n",
    "famous_singer_list"
   ]
  },
  {
   "cell_type": "code",
   "execution_count": null,
   "metadata": {},
   "outputs": [],
   "source": [
    "# 將列表存成記事本方便未來操作\n",
    "with open('網路溫度計 - 歌手天團 - 網路聲量 前兩百名的歌手及樂團名稱.txt', 'w', encoding=\"utf-8\") as f:\n",
    "    for item in famous_singer_list:\n",
    "        f.write(\"%s\\n\" % item)"
   ]
  },
  {
   "cell_type": "markdown",
   "metadata": {},
   "source": [
    "## 1.2 爬取瀏覽器圖片(搜狗圖片)"
   ]
  },
  {
   "cell_type": "code",
   "execution_count": null,
   "metadata": {},
   "outputs": [],
   "source": []
  },
  {
   "cell_type": "code",
   "execution_count": null,
   "metadata": {},
   "outputs": [],
   "source": []
  },
  {
   "cell_type": "markdown",
   "metadata": {},
   "source": [
    "# 2. 資料前處理"
   ]
  },
  {
   "cell_type": "markdown",
   "metadata": {},
   "source": [
    "# 3. 建立模型"
   ]
  }
 ],
 "metadata": {
  "kernelspec": {
   "display_name": "Python 3",
   "language": "python",
   "name": "python3"
  },
  "language_info": {
   "codemirror_mode": {
    "name": "ipython",
    "version": 3
   },
   "file_extension": ".py",
   "mimetype": "text/x-python",
   "name": "python",
   "nbconvert_exporter": "python",
   "pygments_lexer": "ipython3",
   "version": "3.7.4"
  }
 },
 "nbformat": 4,
 "nbformat_minor": 2
}
