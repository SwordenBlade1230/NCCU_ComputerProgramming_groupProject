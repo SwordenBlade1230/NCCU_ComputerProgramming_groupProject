{
 "cells": [
  {
   "cell_type": "markdown",
   "metadata": {},
   "source": [
    "參考來源：  \n",
    "https://medium.com/@yanweiliu/python%E5%BD%B1%E5%83%8F%E8%BE%A8%E8%AD%98%E7%AD%86%E8%A8%98-%E4%B8%80-%E4%BD%BF%E7%94%A8open-cv%E8%BE%A8%E8%AD%98%E5%9C%96%E7%89%87%E5%8F%8A%E5%BD%B1%E7%89%87%E4%B8%AD%E7%9A%84%E4%BA%BA%E8%87%89-527ef48f3a86"
   ]
  },
  {
   "cell_type": "code",
   "execution_count": null,
   "metadata": {},
   "outputs": [],
   "source": [
    "!pip install opencv-python\n",
    "!pip install opencc-python-reimplemented"
   ]
  },
  {
   "cell_type": "code",
   "execution_count": 1,
   "metadata": {},
   "outputs": [],
   "source": [
    "### 函式 - 從照片中擷取人臉並輸出成新的照片 ###\n",
    "%matplotlib inline\n",
    "import cv2\n",
    "import matplotlib.pyplot as plt\n",
    "import os\n",
    "import numpy as np\n",
    "\n",
    "def face_segmentation(imgs_base_path):\n",
    "    \n",
    "    # 建立新的資料夾，用來存放只含人臉部分的照片\n",
    "    target_base_path = imgs_base_path + '_face'\n",
    "    if not os.path.exists(target_base_path):\n",
    "            os.makedirs(target_base_path)\n",
    "            print('----------- 建立新資料夾：' + target_base_path + ' -----------')\n",
    "    \n",
    "    \n",
    "    # 載入分類器\n",
    "    face_cascade = cv2.CascadeClassifier('haarcascade_frontalface_default.xml')\n",
    "    \n",
    "    for category_file_name in os.listdir(imgs_base_path):\n",
    "        print('---------------------- 目前程式處理的資料夾名稱：' + category_file_name + ' ----------------------')\n",
    "        \n",
    "        # 建立和該類別對應的目標資料夾，用來存放該類別只含人臉部分的照片\n",
    "        target_category_path = os.path.join(target_base_path, category_file_name)\n",
    "        if not os.path.exists(target_category_path):\n",
    "                os.makedirs(target_category_path)\n",
    "                print('----------- 建立新資料夾：' + target_category_path + ' -----------')\n",
    "\n",
    "        # 對該類別資料夾中的每一張照片擷取人臉的部分並輸出成新的照片\n",
    "        for img_name in os.listdir(os.path.join(imgs_base_path, category_file_name)):\n",
    "            img = cv2.imread(os.path.join(imgs_base_path, category_file_name, img_name)) # 讀取圖片\n",
    "            \n",
    "            try:\n",
    "                gray = cv2.cvtColor(img, cv2.COLOR_BGR2GRAY)  # 轉成灰階圖片\n",
    "                faces = face_cascade.detectMultiScale(gray, scaleFactor=1.08, minNeighbors=5, minSize=(32, 32))\n",
    "                for idx, (x, y, w, h) in enumerate(faces):\n",
    "                    crop_img = img[y:y+h, x:x+w] # 裁切圖片\n",
    "                    cv2.imwrite(\n",
    "                        os.path.join(target_base_path, category_file_name, img_name[:3] + '_' + str(idx + 1) + '.jpg'), \n",
    "                        crop_img\n",
    "                    ) # 保存圖片至目標路徑\n",
    "            except:\n",
    "                print('無法讀取', os.path.join(imgs_base_path, category_file_name, img_name))\n"
   ]
  },
  {
   "cell_type": "code",
   "execution_count": 2,
   "metadata": {
    "scrolled": true
   },
   "outputs": [
    {
     "name": "stdout",
     "output_type": "stream",
     "text": [
      "---------------------- 目前程式處理的資料夾名稱：star_001 ----------------------\n",
      "無法讀取 imgs\\star_001\\080.jpg\n",
      "無法讀取 imgs\\star_001\\163.jpg\n",
      "無法讀取 imgs\\star_001\\194.jpg\n",
      "---------------------- 目前程式處理的資料夾名稱：star_002 ----------------------\n",
      "----------- 建立新資料夾：imgs_face\\star_002 -----------\n",
      "無法讀取 imgs\\star_002\\003.jpg\n",
      "無法讀取 imgs\\star_002\\036.jpg\n",
      "無法讀取 imgs\\star_002\\069.jpg\n",
      "無法讀取 imgs\\star_002\\194.jpg\n",
      "無法讀取 imgs\\star_002\\197.jpg\n",
      "---------------------- 目前程式處理的資料夾名稱：star_003 ----------------------\n",
      "----------- 建立新資料夾：imgs_face\\star_003 -----------\n",
      "無法讀取 imgs\\star_003\\005.jpg\n",
      "---------------------- 目前程式處理的資料夾名稱：star_004 ----------------------\n",
      "----------- 建立新資料夾：imgs_face\\star_004 -----------\n",
      "---------------------- 目前程式處理的資料夾名稱：star_005 ----------------------\n",
      "----------- 建立新資料夾：imgs_face\\star_005 -----------\n",
      "無法讀取 imgs\\star_005\\011.jpg\n",
      "無法讀取 imgs\\star_005\\125.jpg\n",
      "---------------------- 目前程式處理的資料夾名稱：star_006 ----------------------\n",
      "----------- 建立新資料夾：imgs_face\\star_006 -----------\n",
      "---------------------- 目前程式處理的資料夾名稱：star_007 ----------------------\n",
      "----------- 建立新資料夾：imgs_face\\star_007 -----------\n",
      "---------------------- 目前程式處理的資料夾名稱：star_008 ----------------------\n",
      "----------- 建立新資料夾：imgs_face\\star_008 -----------\n",
      "---------------------- 目前程式處理的資料夾名稱：star_009 ----------------------\n",
      "----------- 建立新資料夾：imgs_face\\star_009 -----------\n",
      "---------------------- 目前程式處理的資料夾名稱：star_010 ----------------------\n",
      "----------- 建立新資料夾：imgs_face\\star_010 -----------\n",
      "無法讀取 imgs\\star_010\\029.jpg\n",
      "無法讀取 imgs\\star_010\\089.jpg\n",
      "無法讀取 imgs\\star_010\\108.jpg\n",
      "無法讀取 imgs\\star_010\\122.jpg\n",
      "無法讀取 imgs\\star_010\\135.jpg\n",
      "無法讀取 imgs\\star_010\\193.jpg\n",
      "---------------------- 目前程式處理的資料夾名稱：star_011 ----------------------\n",
      "----------- 建立新資料夾：imgs_face\\star_011 -----------\n",
      "---------------------- 目前程式處理的資料夾名稱：star_012 ----------------------\n",
      "----------- 建立新資料夾：imgs_face\\star_012 -----------\n",
      "---------------------- 目前程式處理的資料夾名稱：star_013 ----------------------\n",
      "----------- 建立新資料夾：imgs_face\\star_013 -----------\n",
      "---------------------- 目前程式處理的資料夾名稱：star_014 ----------------------\n",
      "----------- 建立新資料夾：imgs_face\\star_014 -----------\n",
      "---------------------- 目前程式處理的資料夾名稱：star_015 ----------------------\n",
      "----------- 建立新資料夾：imgs_face\\star_015 -----------\n",
      "---------------------- 目前程式處理的資料夾名稱：star_016 ----------------------\n",
      "----------- 建立新資料夾：imgs_face\\star_016 -----------\n",
      "---------------------- 目前程式處理的資料夾名稱：star_017 ----------------------\n",
      "----------- 建立新資料夾：imgs_face\\star_017 -----------\n",
      "---------------------- 目前程式處理的資料夾名稱：star_018 ----------------------\n",
      "----------- 建立新資料夾：imgs_face\\star_018 -----------\n",
      "---------------------- 目前程式處理的資料夾名稱：star_019 ----------------------\n",
      "----------- 建立新資料夾：imgs_face\\star_019 -----------\n",
      "---------------------- 目前程式處理的資料夾名稱：star_020 ----------------------\n",
      "----------- 建立新資料夾：imgs_face\\star_020 -----------\n",
      "---------------------- 目前程式處理的資料夾名稱：star_021 ----------------------\n",
      "----------- 建立新資料夾：imgs_face\\star_021 -----------\n",
      "---------------------- 目前程式處理的資料夾名稱：star_022 ----------------------\n",
      "----------- 建立新資料夾：imgs_face\\star_022 -----------\n",
      "---------------------- 目前程式處理的資料夾名稱：star_023 ----------------------\n",
      "----------- 建立新資料夾：imgs_face\\star_023 -----------\n",
      "---------------------- 目前程式處理的資料夾名稱：star_024 ----------------------\n",
      "----------- 建立新資料夾：imgs_face\\star_024 -----------\n",
      "無法讀取 imgs\\star_024\\100.jpg\n",
      "---------------------- 目前程式處理的資料夾名稱：star_025 ----------------------\n",
      "----------- 建立新資料夾：imgs_face\\star_025 -----------\n",
      "花費時間：156.57秒\n"
     ]
    }
   ],
   "source": [
    "### 主程式 ###\n",
    "import time\n",
    "st = time.time()\n",
    "\n",
    "face_segmentation(imgs_base_path = 'imgs')\n",
    "\n",
    "ed = time.time()\n",
    "spend_time = ed - st\n",
    "print(f'花費時間：{spend_time:.2f}秒')"
   ]
  }
 ],
 "metadata": {
  "kernelspec": {
   "display_name": "Python 3",
   "language": "python",
   "name": "python3"
  },
  "language_info": {
   "codemirror_mode": {
    "name": "ipython",
    "version": 3
   },
   "file_extension": ".py",
   "mimetype": "text/x-python",
   "name": "python",
   "nbconvert_exporter": "python",
   "pygments_lexer": "ipython3",
   "version": "3.7.4"
  }
 },
 "nbformat": 4,
 "nbformat_minor": 2
}
