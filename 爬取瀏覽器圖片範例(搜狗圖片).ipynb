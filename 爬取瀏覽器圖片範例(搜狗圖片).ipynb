{
 "cells": [
  {
   "cell_type": "markdown",
   "metadata": {},
   "source": [
    "* 函式名稱：image_crawler\n",
    "\n",
    "* 函式參考來源：   https://medium.com/%E4%BC%81%E9%B5%9D%E4%B9%9F%E6%87%82%E7%A8%8B%E5%BC%8F%E8%A8%AD%E8%A8%88/python%E7%88%AC%E8%9F%B2-python-selenium-%E8%87%AA%E5%8B%95%E5%8C%96%E7%88%AC%E5%8F%96%E5%A4%A7%E9%87%8F%E5%9C%96%E7%89%87-a35d3c89c6d1\n",
    "\n",
    "* 函式作者：陳宇鑫\n",
    "* 注意事項：\n",
    "    * 必須先下載ChromeDriver的檔案(執行檔)，並放在和該程式碼同一個目錄下\n",
    "    * 程式碼在跑的過程中，不要動到新開啟的Chrome視窗(受到自動測試軟體的控制的那個)\n",
    "* 函式參數：\n",
    "    * target_name：目標照片主題的名字\n",
    "    * url：爬取頁面網址\n",
    "    * img_num = 100：要爬取的照片數量\n",
    "    * base_path = 'imgs'：儲存圖片的基本路徑\n",
    "    * chromeDriver = 'chromedriver'：ChromeDriver檔案存放的路徑(預設是和該程式同一個目錄下)"
   ]
  },
  {
   "cell_type": "code",
   "execution_count": 1,
   "metadata": {},
   "outputs": [],
   "source": [
    "from selenium import webdriver\n",
    "import time\n",
    "import urllib\n",
    "import os\n",
    "\n",
    "def image_crawler(target_name, url, img_num = 100, base_path = 'imgs', chromeDriver = 'chromedriver'):\n",
    "    print('----------- ChromeDriver準備中 -----------')\n",
    "    \n",
    "    # 目標元素的xpath\n",
    "    xpath = '//div[@id=\"imgid\"]/ul/li/a/img'\n",
    "    \n",
    "    # 啟動chrome瀏覽器\n",
    "    driver = webdriver.Chrome(chromeDriver) \n",
    "\n",
    "    # 最大化窗口，因為每一次爬取只能看到視窗内的圖片  \n",
    "    driver.maximize_window()  \n",
    "\n",
    "    # 紀錄下載過的圖片網址，避免重複下載  \n",
    "    img_url_dic = {}  \n",
    "\n",
    "    # 瀏覽器打開爬取頁面\n",
    "    driver.get(url)  \n",
    "\n",
    "    # 如果沒有存圖的資料夾，則自動創建\n",
    "    local_path = os.path.join(base_path, target_name)\n",
    "    if not os.path.exists(local_path):\n",
    "            os.makedirs(local_path)\n",
    "            print('----------- 建立新資料夾：' + local_path + ' -----------')\n",
    "\n",
    "    # 模擬滾動視窗瀏覽更多圖片\n",
    "    pos = 0  \n",
    "    m = 0 # 圖片編號 \n",
    "    \n",
    "    print('----------- 開始爬取圖片 -----------')\n",
    "    for i in range(100):  \n",
    "        pos += i*500 # 每次下滾500  \n",
    "        js = \"document.documentElement.scrollTop=%d\" % pos  \n",
    "        driver.execute_script(js)  \n",
    "        time.sleep(1) # 設定休息時間，避免過度爬取被網頁擋掉(爬蟲必備的小技巧)\n",
    "\n",
    "        for element in driver.find_elements_by_xpath(xpath):\n",
    "\n",
    "            img_url = element.get_attribute('src')\n",
    "\n",
    "            # 保存圖片到指定路徑\n",
    "            if img_url != None and not img_url in img_url_dic:\n",
    "                img_url_dic[img_url] = ''  \n",
    "                m += 1\n",
    "\n",
    "                # 如果已經儲存一定數量的照片，提前結束該函式\n",
    "                if m > img_num:\n",
    "                    driver.close()\n",
    "                    print('---------- 程式處理完成，一共取得' + str(img_num) + '張' + target_name + '的圖片 ----------')\n",
    "                    return\n",
    "\n",
    "                # print(img_url)\n",
    "                ext = img_url.split('/')[-1]\n",
    "                # print(ext)\n",
    "                filename = target_name + '_' + str(m).zfill(3) + '.jpg' # zfill可以字串未滿的位數補0，例如001、002...099、100\n",
    "\n",
    "                # 每保存10張照片印出進度\n",
    "                if m % 10 == 0:\n",
    "                    print('目前進度：正在保存', filename)\n",
    "\n",
    "                # 保存圖片\n",
    "                urllib.request.urlretrieve(img_url, os.path.join(local_path, filename))\n",
    "\n",
    "    # 結束該函式\n",
    "    driver.close()\n",
    "    print('---------- 程式處理完成，一共取得' + str(img_num) + '張' + target_name + '的圖片 ----------')\n",
    "    return"
   ]
  },
  {
   "cell_type": "code",
   "execution_count": 2,
   "metadata": {
    "scrolled": true
   },
   "outputs": [],
   "source": [
    "### 可以自行設定的參數 ###\n",
    "\n",
    "# 目標照片主題的名字\n",
    "target_name = '羅志祥'\n",
    "\n",
    "# 爬取頁面網址 \n",
    "url = 'https://pic.sogou.com/pics?query=%C1_%D6%BE%CF%E9&w=05009900&p=&_asf=pic.sogou.com&_ast=1588563004&sc=index&sut=3145&sst0=1588563004096'  \n",
    "\n",
    "# # 要爬取照片的數量\n",
    "# img_num = 100\n",
    "\n",
    "# # 儲存圖片的基本路徑\n",
    "# base_path = 'imgs'\n",
    "\n",
    "# # ChromeDriver檔案放的位置\n",
    "# chromeDriver = 'chromedriver' # 預設是和該程式同一個目錄下"
   ]
  },
  {
   "cell_type": "code",
   "execution_count": 3,
   "metadata": {},
   "outputs": [
    {
     "name": "stdout",
     "output_type": "stream",
     "text": [
      "----------- ChromeDriver準備中 -----------\n",
      "----------- 建立新資料夾：imgs\\羅志祥 -----------\n",
      "----------- 開始爬取圖片 -----------\n",
      "目前進度：正在保存 羅志祥_010.jpg\n",
      "目前進度：正在保存 羅志祥_020.jpg\n",
      "目前進度：正在保存 羅志祥_030.jpg\n",
      "目前進度：正在保存 羅志祥_040.jpg\n",
      "目前進度：正在保存 羅志祥_050.jpg\n",
      "目前進度：正在保存 羅志祥_060.jpg\n",
      "目前進度：正在保存 羅志祥_070.jpg\n",
      "目前進度：正在保存 羅志祥_080.jpg\n",
      "目前進度：正在保存 羅志祥_090.jpg\n",
      "目前進度：正在保存 羅志祥_100.jpg\n",
      "---------- 程式處理完成，一共取得100張羅志祥的圖片 ----------\n"
     ]
    }
   ],
   "source": [
    "### 主函式 ###\n",
    "image_crawler(target_name, url)"
   ]
  },
  {
   "cell_type": "markdown",
   "metadata": {},
   "source": [
    "失敗案例：google_images_download"
   ]
  },
  {
   "cell_type": "code",
   "execution_count": null,
   "metadata": {},
   "outputs": [],
   "source": [
    "#! pip install google_images_download"
   ]
  },
  {
   "cell_type": "code",
   "execution_count": null,
   "metadata": {},
   "outputs": [],
   "source": [
    "! googleimagesdownload -k '羅志祥' -l 100"
   ]
  },
  {
   "cell_type": "code",
   "execution_count": null,
   "metadata": {},
   "outputs": [],
   "source": [
    "from google_images_download import google_images_download\n",
    "#instantiate the class\n",
    "response = google_images_download.googleimagesdownload()\n",
    "arguments = {\"keywords\":\"lilly,hills\",\"limit\":5,\"print_urls\":True}\n",
    "paths = response.download(arguments)\n",
    "#print complete paths to the downloaded images\n",
    "print(paths)"
   ]
  }
 ],
 "metadata": {
  "kernelspec": {
   "display_name": "Python 3",
   "language": "python",
   "name": "python3"
  },
  "language_info": {
   "codemirror_mode": {
    "name": "ipython",
    "version": 3
   },
   "file_extension": ".py",
   "mimetype": "text/x-python",
   "name": "python",
   "nbconvert_exporter": "python",
   "pygments_lexer": "ipython3",
   "version": "3.7.4"
  }
 },
 "nbformat": 4,
 "nbformat_minor": 2
}
